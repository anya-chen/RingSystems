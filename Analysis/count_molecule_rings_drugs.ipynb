{
 "cells": [
  {
   "cell_type": "code",
   "execution_count": 2,
   "id": "1e0110c1",
   "metadata": {},
   "outputs": [],
   "source": [
    "import os\n",
    "from pathlib import Path\n",
    "import glob\n",
    "import pandas as pd"
   ]
  },
  {
   "cell_type": "code",
   "execution_count": 3,
   "id": "4f1050e8",
   "metadata": {},
   "outputs": [],
   "source": [
    "# count number of molecules"
   ]
  },
  {
   "cell_type": "code",
   "execution_count": 4,
   "id": "f36a3c92",
   "metadata": {},
   "outputs": [],
   "source": [
    "drugInputDir = '/data/local/ringsys/202111_approveddrug/smiles_ids'\n",
    "csv_files = glob.glob(os.path.join(drugInputDir, \"*.csv\"))\n",
    "frames = []\n",
    "for f in csv_files:\n",
    "    df = pd.read_csv(f)\n",
    "    frames.append(df)\n",
    "drugDF = pd.concat(frames)"
   ]
  },
  {
   "cell_type": "code",
   "execution_count": 5,
   "id": "cf629a02",
   "metadata": {},
   "outputs": [
    {
     "data": {
      "text/plain": [
       "2225"
      ]
     },
     "execution_count": 5,
     "metadata": {},
     "output_type": "execute_result"
    }
   ],
   "source": [
    "len(set(drugDF.conID))"
   ]
  },
  {
   "cell_type": "code",
   "execution_count": 6,
   "id": "dac37b2a",
   "metadata": {},
   "outputs": [],
   "source": [
    "drug_idSet = set()\n",
    "for i in list(drugDF.mol_stereoIDs):\n",
    "    if '[' in i:\n",
    "        ids = i.replace('[','').replace(']','').replace(\"'\",\"\").replace(' ','')\n",
    "        id_list = ids.split(',')\n",
    "        for item in id_list:\n",
    "            drug_idSet.add(item)\n",
    "    else:\n",
    "        drug_idSet.add(i)"
   ]
  },
  {
   "cell_type": "code",
   "execution_count": 7,
   "id": "1bac1da6",
   "metadata": {},
   "outputs": [
    {
     "data": {
      "text/plain": [
       "2238"
      ]
     },
     "execution_count": 7,
     "metadata": {},
     "output_type": "execute_result"
    }
   ],
   "source": [
    "len(drug_idSet)"
   ]
  },
  {
   "cell_type": "code",
   "execution_count": 10,
   "id": "877c51e5",
   "metadata": {},
   "outputs": [],
   "source": [
    "# how many approved drugs has ring"
   ]
  },
  {
   "cell_type": "code",
   "execution_count": 11,
   "id": "3fd12137",
   "metadata": {},
   "outputs": [],
   "source": [
    "from rdkit import Chem\n",
    "\n",
    "def has_ring(row):\n",
    "    mol = Chem.MolFromSmiles(row.preprocessedSmiles)\n",
    "    if Chem.GetSSSR(mol) != 0:\n",
    "        return 1\n",
    "    else:\n",
    "        return 0"
   ]
  },
  {
   "cell_type": "code",
   "execution_count": 12,
   "id": "ee9207a3",
   "metadata": {},
   "outputs": [],
   "source": [
    "drugDF['has_ring']=drugDF.apply(lambda row:has_ring(row),axis=1)   "
   ]
  },
  {
   "cell_type": "code",
   "execution_count": 13,
   "id": "16a43afa",
   "metadata": {},
   "outputs": [],
   "source": [
    "drugDF_has_ring = drugDF[drugDF['has_ring']==1]"
   ]
  },
  {
   "cell_type": "code",
   "execution_count": 14,
   "id": "b93a952c",
   "metadata": {},
   "outputs": [
    {
     "data": {
      "text/plain": [
       "2001"
      ]
     },
     "execution_count": 14,
     "metadata": {},
     "output_type": "execute_result"
    }
   ],
   "source": [
    "len(drugDF_has_ring)"
   ]
  },
  {
   "cell_type": "code",
   "execution_count": 15,
   "id": "d1c7d7cc",
   "metadata": {},
   "outputs": [
    {
     "data": {
      "text/plain": [
       "(1986, 0.8925842696629214)"
      ]
     },
     "execution_count": 15,
     "metadata": {},
     "output_type": "execute_result"
    }
   ],
   "source": [
    "len(set(drugDF_has_ring.conID)),\\\n",
    "len(set(drugDF_has_ring.conID))/len(set(drugDF.conID))"
   ]
  },
  {
   "cell_type": "code",
   "execution_count": 16,
   "id": "1d2677b3",
   "metadata": {},
   "outputs": [],
   "source": [
    "drug_has_ring_idSet = set()\n",
    "for i in list(drugDF_has_ring.mol_stereoIDs):\n",
    "    if '[' in i:\n",
    "        ids = i.replace('[','').replace(']','').replace(\"'\",\"\").replace(' ','')\n",
    "        id_list = ids.split(',')\n",
    "        for item in id_list:\n",
    "            drug_has_ring_idSet.add(item)\n",
    "    else:\n",
    "        drug_has_ring_idSet.add(i)"
   ]
  },
  {
   "cell_type": "code",
   "execution_count": 17,
   "id": "08bf09e2",
   "metadata": {},
   "outputs": [
    {
     "data": {
      "text/plain": [
       "(1996, 0.8918677390527256)"
      ]
     },
     "execution_count": 17,
     "metadata": {},
     "output_type": "execute_result"
    }
   ],
   "source": [
    "len(drug_has_ring_idSet),len(drug_has_ring_idSet)/len(drug_idSet)"
   ]
  },
  {
   "cell_type": "code",
   "execution_count": 18,
   "id": "09c6ed8b",
   "metadata": {},
   "outputs": [],
   "source": [
    "# count number of unique ring systems"
   ]
  },
  {
   "cell_type": "code",
   "execution_count": 19,
   "id": "12126a17",
   "metadata": {},
   "outputs": [],
   "source": [
    "drugs_dir = '/data/local/ringsys/202111_approveddrug/'\n",
    "drug_uniq_ring_Folder = Path(drugs_dir)/ 'uniqueRingSystems/'\n",
    "\n",
    "drug_ring_noStereo = pd.read_csv(str(drug_uniq_ring_Folder)+'/drug_uniqueRingSystems_noStereo.txt',sep='\\t')\n",
    "drug_ring_Stereo = pd.read_csv(str(drug_uniq_ring_Folder)+'/drug_uniqueRingSystems_Stereo.txt',sep='\\t')"
   ]
  },
  {
   "cell_type": "code",
   "execution_count": 20,
   "id": "d378033a",
   "metadata": {
    "scrolled": true
   },
   "outputs": [
    {
     "data": {
      "text/plain": [
       "596"
      ]
     },
     "execution_count": 20,
     "metadata": {},
     "output_type": "execute_result"
    }
   ],
   "source": [
    "len(drug_ring_noStereo)"
   ]
  },
  {
   "cell_type": "code",
   "execution_count": 21,
   "id": "50a6912c",
   "metadata": {},
   "outputs": [
    {
     "data": {
      "text/plain": [
       "602"
      ]
     },
     "execution_count": 21,
     "metadata": {},
     "output_type": "execute_result"
    }
   ],
   "source": [
    "len(drug_ring_Stereo)"
   ]
  },
  {
   "cell_type": "code",
   "execution_count": 23,
   "id": "c8751004",
   "metadata": {},
   "outputs": [],
   "source": [
    "# singtons"
   ]
  },
  {
   "cell_type": "code",
   "execution_count": 24,
   "id": "32108e6c",
   "metadata": {},
   "outputs": [
    {
     "data": {
      "text/plain": [
       "351"
      ]
     },
     "execution_count": 24,
     "metadata": {},
     "output_type": "execute_result"
    }
   ],
   "source": [
    "len(drug_ring_noStereo[drug_ring_noStereo['nMol_conID']==1])"
   ]
  },
  {
   "cell_type": "code",
   "execution_count": 25,
   "id": "839c7d7d",
   "metadata": {},
   "outputs": [
    {
     "data": {
      "text/plain": [
       "357"
      ]
     },
     "execution_count": 25,
     "metadata": {},
     "output_type": "execute_result"
    }
   ],
   "source": [
    "len(drug_ring_Stereo[drug_ring_Stereo['nMol_stereoID']==1])"
   ]
  },
  {
   "cell_type": "code",
   "execution_count": 26,
   "id": "f9fff725",
   "metadata": {},
   "outputs": [],
   "source": [
    "# no. macrocycles"
   ]
  },
  {
   "cell_type": "code",
   "execution_count": 27,
   "id": "95077908",
   "metadata": {},
   "outputs": [],
   "source": [
    "from rdkit.Chem import PandasTools\n",
    "\n",
    "PandasTools.AddMoleculeColumnToFrame(drug_ring_noStereo, 'ringSmiles_noStereo', 'ringMolecule')\n",
    "PandasTools.AddMoleculeColumnToFrame(drug_ring_Stereo, 'RingSmiles', 'ringMolecule')"
   ]
  },
  {
   "cell_type": "code",
   "execution_count": 28,
   "id": "ec7c1c86",
   "metadata": {},
   "outputs": [],
   "source": [
    "from rdkit.Chem import MolFromSmarts\n",
    "\n",
    "def macrocycle(mol):\n",
    "    if mol.HasSubstructMatch(MolFromSmarts('[r;!r3;!r4;!r5;!r6;!r7;!r8;!r9;!r10;!r11]')):\n",
    "        return 1\n",
    "    else:\n",
    "        return 0"
   ]
  },
  {
   "cell_type": "code",
   "execution_count": 29,
   "id": "ba870e6f",
   "metadata": {},
   "outputs": [],
   "source": [
    "drug_ring_noStereo['macrocycle'] = drug_ring_noStereo.apply(lambda row: macrocycle(row.ringMolecule),axis=1)\n",
    "drug_ring_Stereo['macrocycle'] = drug_ring_Stereo.apply(lambda row: macrocycle(row.ringMolecule),axis=1)"
   ]
  },
  {
   "cell_type": "code",
   "execution_count": 30,
   "id": "900c0ab2",
   "metadata": {},
   "outputs": [
    {
     "data": {
      "text/plain": [
       "52"
      ]
     },
     "execution_count": 30,
     "metadata": {},
     "output_type": "execute_result"
    }
   ],
   "source": [
    "len(drug_ring_noStereo[drug_ring_noStereo['macrocycle']==1])"
   ]
  },
  {
   "cell_type": "code",
   "execution_count": 31,
   "id": "7806d9fa",
   "metadata": {},
   "outputs": [
    {
     "data": {
      "text/plain": [
       "52"
      ]
     },
     "execution_count": 31,
     "metadata": {},
     "output_type": "execute_result"
    }
   ],
   "source": [
    "len(drug_ring_Stereo[drug_ring_Stereo['macrocycle']==1])"
   ]
  },
  {
   "cell_type": "code",
   "execution_count": 32,
   "id": "63bdb846",
   "metadata": {},
   "outputs": [],
   "source": [
    "# %chiral"
   ]
  },
  {
   "cell_type": "code",
   "execution_count": 33,
   "id": "851b7373",
   "metadata": {},
   "outputs": [],
   "source": [
    "def get_nof_chiral_centers(mol):\n",
    "    return len(Chem.FindMolChiralCenters(mol, includeUnassigned=True))"
   ]
  },
  {
   "cell_type": "code",
   "execution_count": 34,
   "id": "22368eff",
   "metadata": {},
   "outputs": [],
   "source": [
    "drug_ring_noStereo['n_chiral'] = drug_ring_noStereo['ringMolecule'].apply(lambda row:get_nof_chiral_centers(row))\n",
    "drug_ring_Stereo['n_chiral'] = drug_ring_Stereo['ringMolecule'].apply(lambda row:get_nof_chiral_centers(row))"
   ]
  },
  {
   "cell_type": "code",
   "execution_count": 36,
   "id": "4b7d35f1",
   "metadata": {},
   "outputs": [
    {
     "data": {
      "text/plain": [
       "(186, 0.3089700996677741)"
      ]
     },
     "execution_count": 36,
     "metadata": {},
     "output_type": "execute_result"
    }
   ],
   "source": [
    "len(drug_ring_Stereo[drug_ring_Stereo['n_chiral']!=0]),\\\n",
    "len(drug_ring_Stereo[drug_ring_Stereo['n_chiral']!=0])/len(drug_ring_Stereo)"
   ]
  },
  {
   "cell_type": "code",
   "execution_count": 37,
   "id": "656e4578",
   "metadata": {},
   "outputs": [
    {
     "data": {
      "text/plain": [
       "(180, 0.30201342281879195)"
      ]
     },
     "execution_count": 37,
     "metadata": {},
     "output_type": "execute_result"
    }
   ],
   "source": [
    "len(drug_ring_noStereo[drug_ring_noStereo['n_chiral']!=0]),\\\n",
    "len(drug_ring_noStereo[drug_ring_noStereo['n_chiral']!=0])/len(drug_ring_noStereo)"
   ]
  }
 ],
 "metadata": {
  "kernelspec": {
   "display_name": "ringsys",
   "language": "python",
   "name": "ringsys"
  },
  "language_info": {
   "codemirror_mode": {
    "name": "ipython",
    "version": 3
   },
   "file_extension": ".py",
   "mimetype": "text/x-python",
   "name": "python",
   "nbconvert_exporter": "python",
   "pygments_lexer": "ipython3",
   "version": "3.8.10"
  }
 },
 "nbformat": 4,
 "nbformat_minor": 5
}
